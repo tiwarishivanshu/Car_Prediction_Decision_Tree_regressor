{
 "cells": [
  {
   "cell_type": "code",
   "execution_count": 59,
   "id": "joint-repository",
   "metadata": {},
   "outputs": [],
   "source": [
    "import pandas as pd\n",
    "import numpy as np\n",
    "from sklearn.model_selection import train_test_split"
   ]
  },
  {
   "cell_type": "code",
   "execution_count": 9,
   "id": "mounted-prophet",
   "metadata": {},
   "outputs": [],
   "source": [
    "train=pd.read_csv(\"train_cln.csv\")\n",
    "test=pd.read_csv(\"test_cln.csv\")"
   ]
  },
  {
   "cell_type": "code",
   "execution_count": 10,
   "id": "young-billy",
   "metadata": {},
   "outputs": [
    {
     "data": {
      "text/plain": [
       "Index(['Unnamed: 0', 'Location_encoded', 'Year', 'Kilometers_Driven',\n",
       "       'fuel_encoded', 'Transmission_encoder', 'Owner_Type_Encoding',\n",
       "       'Mileage', 'Engine', 'Power', 'Seats', 'New_Price', 'Price'],\n",
       "      dtype='object')"
      ]
     },
     "execution_count": 10,
     "metadata": {},
     "output_type": "execute_result"
    }
   ],
   "source": [
    "train.select_dtypes(['int','float']).keys()"
   ]
  },
  {
   "cell_type": "code",
   "execution_count": 11,
   "id": "equipped-transsexual",
   "metadata": {},
   "outputs": [
    {
     "data": {
      "text/plain": [
       "Index(['Unnamed: 0', 'Location_encoded', 'Year', 'Kilometers_Driven',\n",
       "       'fuel_encoded', 'Transmission_encoder', 'Owner_Type_Encoding',\n",
       "       'Mileage', 'Engine', 'Power', 'Seats', 'New_Price'],\n",
       "      dtype='object')"
      ]
     },
     "execution_count": 11,
     "metadata": {},
     "output_type": "execute_result"
    }
   ],
   "source": [
    "test.select_dtypes(['int','float']).keys()"
   ]
  },
  {
   "cell_type": "code",
   "execution_count": 23,
   "id": "short-kruger",
   "metadata": {},
   "outputs": [],
   "source": [
    "x=train[['Location_encoded', 'Year', 'Kilometers_Driven',\n",
    "       'fuel_encoded', 'Transmission_encoder', 'Owner_Type_Encoding',\n",
    "       'Mileage', 'Engine', 'Power', 'Seats','New_Price']]"
   ]
  },
  {
   "cell_type": "code",
   "execution_count": 24,
   "id": "smooth-graduate",
   "metadata": {},
   "outputs": [],
   "source": [
    "y=train[['Price']]"
   ]
  },
  {
   "cell_type": "code",
   "execution_count": 25,
   "id": "protecting-adolescent",
   "metadata": {},
   "outputs": [],
   "source": [
    "x_train,x_test,y_train,y_test=train_test_split(x,y,test_size=2,random_state=1)"
   ]
  },
  {
   "cell_type": "code",
   "execution_count": 26,
   "id": "restricted-broad",
   "metadata": {},
   "outputs": [],
   "source": [
    "reg=LinearRegression()"
   ]
  },
  {
   "cell_type": "code",
   "execution_count": 27,
   "id": "chubby-tract",
   "metadata": {},
   "outputs": [
    {
     "data": {
      "text/plain": [
       "LinearRegression()"
      ]
     },
     "execution_count": 27,
     "metadata": {},
     "output_type": "execute_result"
    }
   ],
   "source": [
    "reg.fit(x_train,y_train)"
   ]
  },
  {
   "cell_type": "code",
   "execution_count": 28,
   "id": "appropriate-convertible",
   "metadata": {},
   "outputs": [],
   "source": [
    "y_pred=reg.predict(x_test)"
   ]
  },
  {
   "cell_type": "code",
   "execution_count": 30,
   "id": "painted-carroll",
   "metadata": {},
   "outputs": [],
   "source": [
    "from sklearn.metrics import r2_score"
   ]
  },
  {
   "cell_type": "code",
   "execution_count": 31,
   "id": "distinct-illinois",
   "metadata": {},
   "outputs": [],
   "source": [
    "score=r2_score(y_test,y_pred)"
   ]
  },
  {
   "cell_type": "code",
   "execution_count": 32,
   "id": "banned-painting",
   "metadata": {},
   "outputs": [
    {
     "data": {
      "text/plain": [
       "0.6531966148569102"
      ]
     },
     "execution_count": 32,
     "metadata": {},
     "output_type": "execute_result"
    }
   ],
   "source": [
    "score"
   ]
  },
  {
   "cell_type": "code",
   "execution_count": 54,
   "id": "artificial-monte",
   "metadata": {},
   "outputs": [],
   "source": [
    "from sklearn.tree import DecisionTreeRegressor\n",
    "clf=DecisionTreeRegressor(random_state=0)"
   ]
  },
  {
   "cell_type": "code",
   "execution_count": 55,
   "id": "warming-estimate",
   "metadata": {},
   "outputs": [
    {
     "data": {
      "text/plain": [
       "DecisionTreeRegressor(random_state=0)"
      ]
     },
     "execution_count": 55,
     "metadata": {},
     "output_type": "execute_result"
    }
   ],
   "source": [
    "clf.fit(x_train,y_train)"
   ]
  },
  {
   "cell_type": "code",
   "execution_count": 56,
   "id": "eligible-north",
   "metadata": {},
   "outputs": [],
   "source": [
    "y_pred=clf.predict(x_test)"
   ]
  },
  {
   "cell_type": "code",
   "execution_count": 57,
   "id": "thermal-advocacy",
   "metadata": {},
   "outputs": [],
   "source": [
    "from sklearn.metrics import r2_score"
   ]
  },
  {
   "cell_type": "code",
   "execution_count": 58,
   "id": "satellite-springfield",
   "metadata": {},
   "outputs": [
    {
     "data": {
      "text/plain": [
       "0.96571784833751"
      ]
     },
     "execution_count": 58,
     "metadata": {},
     "output_type": "execute_result"
    }
   ],
   "source": [
    "r2_score(y_test,y_pred)"
   ]
  },
  {
   "cell_type": "code",
   "execution_count": null,
   "id": "amber-chorus",
   "metadata": {},
   "outputs": [],
   "source": []
  }
 ],
 "metadata": {
  "kernelspec": {
   "display_name": "Python 3",
   "language": "python",
   "name": "python3"
  },
  "language_info": {
   "codemirror_mode": {
    "name": "ipython",
    "version": 3
   },
   "file_extension": ".py",
   "mimetype": "text/x-python",
   "name": "python",
   "nbconvert_exporter": "python",
   "pygments_lexer": "ipython3",
   "version": "3.8.3"
  }
 },
 "nbformat": 4,
 "nbformat_minor": 5
}
